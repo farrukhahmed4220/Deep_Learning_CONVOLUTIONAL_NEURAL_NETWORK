{
 "cells": [
  {
   "cell_type": "code",
   "execution_count": 1,
   "metadata": {},
   "outputs": [],
   "source": [
    "import os, shutil"
   ]
  },
  {
   "cell_type": "code",
   "execution_count": 2,
   "metadata": {},
   "outputs": [],
   "source": [
    "original_dataset_dir = 'D:\\CNN'"
   ]
  },
  {
   "cell_type": "code",
   "execution_count": 3,
   "metadata": {},
   "outputs": [],
   "source": [
    "base_dir = 'D:\\CNN\\CATS_DOG'"
   ]
  },
  {
   "cell_type": "code",
   "execution_count": 4,
   "metadata": {},
   "outputs": [],
   "source": [
    "train_dir = os.path.join(base_dir, 'train')"
   ]
  },
  {
   "cell_type": "code",
   "execution_count": 5,
   "metadata": {},
   "outputs": [],
   "source": [
    "validation_dir = os.path.join(base_dir, 'validation')\n",
    "test_dir = os.path.join(base_dir, 'test')"
   ]
  },
  {
   "cell_type": "code",
   "execution_count": 6,
   "metadata": {},
   "outputs": [
    {
     "name": "stderr",
     "output_type": "stream",
     "text": [
      "Using TensorFlow backend.\n"
     ]
    }
   ],
   "source": [
    "from keras import layers\n",
    "from keras import models\n",
    "model = models.Sequential()\n",
    "model.add(layers.Conv2D(32, (3, 3), activation='relu',\n",
    "input_shape=(150, 150, 3)))\n",
    "model.add(layers.MaxPooling2D((2, 2)))\n",
    "model.add(layers.Conv2D(64, (3, 3), activation='relu'))\n",
    "model.add(layers.MaxPooling2D((2, 2)))\n",
    "model.add(layers.Conv2D(128, (3, 3), activation='relu'))\n",
    "model.add(layers.MaxPooling2D((2, 2)))\n",
    "model.add(layers.Conv2D(128, (3, 3), activation='relu'))\n",
    "model.add(layers.MaxPooling2D((2, 2)))\n",
    "model.add(layers.Flatten())\n",
    "model.add(layers.Dense(512, activation='relu'))\n",
    "model.add(layers.Dense(1, activation='sigmoid'))"
   ]
  },
  {
   "cell_type": "code",
   "execution_count": 7,
   "metadata": {},
   "outputs": [
    {
     "name": "stdout",
     "output_type": "stream",
     "text": [
      "_________________________________________________________________\n",
      "Layer (type)                 Output Shape              Param #   \n",
      "=================================================================\n",
      "conv2d_1 (Conv2D)            (None, 148, 148, 32)      896       \n",
      "_________________________________________________________________\n",
      "max_pooling2d_1 (MaxPooling2 (None, 74, 74, 32)        0         \n",
      "_________________________________________________________________\n",
      "conv2d_2 (Conv2D)            (None, 72, 72, 64)        18496     \n",
      "_________________________________________________________________\n",
      "max_pooling2d_2 (MaxPooling2 (None, 36, 36, 64)        0         \n",
      "_________________________________________________________________\n",
      "conv2d_3 (Conv2D)            (None, 34, 34, 128)       73856     \n",
      "_________________________________________________________________\n",
      "max_pooling2d_3 (MaxPooling2 (None, 17, 17, 128)       0         \n",
      "_________________________________________________________________\n",
      "conv2d_4 (Conv2D)            (None, 15, 15, 128)       147584    \n",
      "_________________________________________________________________\n",
      "max_pooling2d_4 (MaxPooling2 (None, 7, 7, 128)         0         \n",
      "_________________________________________________________________\n",
      "flatten_1 (Flatten)          (None, 6272)              0         \n",
      "_________________________________________________________________\n",
      "dense_1 (Dense)              (None, 512)               3211776   \n",
      "_________________________________________________________________\n",
      "dense_2 (Dense)              (None, 1)                 513       \n",
      "=================================================================\n",
      "Total params: 3,453,121\n",
      "Trainable params: 3,453,121\n",
      "Non-trainable params: 0\n",
      "_________________________________________________________________\n"
     ]
    }
   ],
   "source": [
    "model.summary()"
   ]
  },
  {
   "cell_type": "code",
   "execution_count": 8,
   "metadata": {},
   "outputs": [],
   "source": [
    "from keras import optimizers\n",
    "model.compile(loss='binary_crossentropy',\n",
    "optimizer=optimizers.RMSprop(lr=1e-4),\n",
    "metrics=['acc'])\n"
   ]
  },
  {
   "cell_type": "code",
   "execution_count": 9,
   "metadata": {},
   "outputs": [
    {
     "name": "stdout",
     "output_type": "stream",
     "text": [
      "Found 2000 images belonging to 2 classes.\n",
      "Found 1000 images belonging to 2 classes.\n"
     ]
    }
   ],
   "source": [
    "from keras.preprocessing.image import ImageDataGenerator\n",
    "train_datagen = ImageDataGenerator(rescale=1./255)\n",
    "test_datagen = ImageDataGenerator(rescale=1./255)\n",
    "train_generator = train_datagen.flow_from_directory(\n",
    "    train_dir,\n",
    "    target_size=(150, 150),\n",
    "    batch_size=20,\n",
    "    class_mode='binary')\n",
    "validation_generator = test_datagen.flow_from_directory(\n",
    "validation_dir,\n",
    "    target_size=(150, 150),\n",
    "batch_size=20,\n",
    "class_mode='binary')"
   ]
  },
  {
   "cell_type": "code",
   "execution_count": 10,
   "metadata": {},
   "outputs": [
    {
     "name": "stdout",
     "output_type": "stream",
     "text": [
      "Epoch 1/30\n",
      "100/100 [==============================] - 49s 495ms/step - loss: 0.6963 - acc: 0.5470 - val_loss: 0.6803 - val_acc: 0.5220\n",
      "Epoch 2/30\n",
      "100/100 [==============================] - 22s 225ms/step - loss: 0.6514 - acc: 0.6205 - val_loss: 0.6364 - val_acc: 0.6370\n",
      "Epoch 3/30\n",
      "100/100 [==============================] - 23s 227ms/step - loss: 0.6200 - acc: 0.6650 - val_loss: 0.6313 - val_acc: 0.6410\n",
      "Epoch 4/30\n",
      "100/100 [==============================] - 23s 231ms/step - loss: 0.5796 - acc: 0.6995 - val_loss: 0.5943 - val_acc: 0.6850\n",
      "Epoch 5/30\n",
      "100/100 [==============================] - 23s 230ms/step - loss: 0.5472 - acc: 0.7190 - val_loss: 0.5804 - val_acc: 0.6960\n",
      "Epoch 6/30\n",
      "100/100 [==============================] - 23s 229ms/step - loss: 0.5185 - acc: 0.7485 - val_loss: 0.5901 - val_acc: 0.6870\n",
      "Epoch 7/30\n",
      "100/100 [==============================] - 23s 229ms/step - loss: 0.4873 - acc: 0.7660 - val_loss: 0.5907 - val_acc: 0.6820\n",
      "Epoch 8/30\n",
      "100/100 [==============================] - 23s 233ms/step - loss: 0.4522 - acc: 0.7895 - val_loss: 0.6008 - val_acc: 0.6930\n",
      "Epoch 9/30\n",
      "100/100 [==============================] - 23s 226ms/step - loss: 0.4238 - acc: 0.7990 - val_loss: 0.5498 - val_acc: 0.7310\n",
      "Epoch 10/30\n",
      "100/100 [==============================] - 23s 227ms/step - loss: 0.3973 - acc: 0.8290 - val_loss: 0.6056 - val_acc: 0.7120\n",
      "Epoch 11/30\n",
      "100/100 [==============================] - 23s 228ms/step - loss: 0.3681 - acc: 0.8360 - val_loss: 0.6186 - val_acc: 0.7070\n",
      "Epoch 12/30\n",
      "100/100 [==============================] - 23s 228ms/step - loss: 0.3519 - acc: 0.8540 - val_loss: 0.6057 - val_acc: 0.7130\n",
      "Epoch 13/30\n",
      "100/100 [==============================] - 23s 225ms/step - loss: 0.3188 - acc: 0.8715 - val_loss: 0.5812 - val_acc: 0.7220\n",
      "Epoch 14/30\n",
      "100/100 [==============================] - 23s 231ms/step - loss: 0.2962 - acc: 0.8795 - val_loss: 0.5711 - val_acc: 0.7270\n",
      "Epoch 15/30\n",
      "100/100 [==============================] - 23s 229ms/step - loss: 0.2599 - acc: 0.8935 - val_loss: 0.6043 - val_acc: 0.7280\n",
      "Epoch 16/30\n",
      "100/100 [==============================] - 23s 225ms/step - loss: 0.2365 - acc: 0.9075 - val_loss: 0.6560 - val_acc: 0.7220\n",
      "Epoch 17/30\n",
      "100/100 [==============================] - 23s 228ms/step - loss: 0.2190 - acc: 0.9165 - val_loss: 0.6070 - val_acc: 0.7350\n",
      "Epoch 18/30\n",
      "100/100 [==============================] - 23s 226ms/step - loss: 0.1851 - acc: 0.9340 - val_loss: 0.6575 - val_acc: 0.7260\n",
      "Epoch 19/30\n",
      "100/100 [==============================] - 23s 226ms/step - loss: 0.1717 - acc: 0.9405 - val_loss: 0.7092 - val_acc: 0.7070\n",
      "Epoch 20/30\n",
      "100/100 [==============================] - 23s 230ms/step - loss: 0.1449 - acc: 0.9495 - val_loss: 0.7649 - val_acc: 0.7110\n",
      "Epoch 21/30\n",
      "100/100 [==============================] - 23s 226ms/step - loss: 0.1306 - acc: 0.9545 - val_loss: 0.7597 - val_acc: 0.7180\n",
      "Epoch 22/30\n",
      "100/100 [==============================] - 23s 225ms/step - loss: 0.1070 - acc: 0.9650 - val_loss: 0.8929 - val_acc: 0.7040\n",
      "Epoch 23/30\n",
      "100/100 [==============================] - 23s 230ms/step - loss: 0.0900 - acc: 0.9745 - val_loss: 0.8448 - val_acc: 0.7240\n",
      "Epoch 24/30\n",
      "100/100 [==============================] - 23s 225ms/step - loss: 0.0806 - acc: 0.9740 - val_loss: 0.8423 - val_acc: 0.7070\n",
      "Epoch 25/30\n",
      "100/100 [==============================] - 23s 225ms/step - loss: 0.0666 - acc: 0.9835 - val_loss: 0.9132 - val_acc: 0.7280\n",
      "Epoch 26/30\n",
      "100/100 [==============================] - 23s 225ms/step - loss: 0.0528 - acc: 0.9835 - val_loss: 0.9345 - val_acc: 0.7200\n",
      "Epoch 27/30\n",
      "100/100 [==============================] - 23s 225ms/step - loss: 0.0504 - acc: 0.9860 - val_loss: 0.9932 - val_acc: 0.7300\n",
      "Epoch 28/30\n",
      "100/100 [==============================] - 23s 225ms/step - loss: 0.0447 - acc: 0.9880 - val_loss: 1.0680 - val_acc: 0.7260\n",
      "Epoch 29/30\n",
      "100/100 [==============================] - 23s 226ms/step - loss: 0.0316 - acc: 0.9910 - val_loss: 1.0748 - val_acc: 0.7170\n",
      "Epoch 30/30\n",
      "100/100 [==============================] - 23s 229ms/step - loss: 0.0274 - acc: 0.9930 - val_loss: 1.1147 - val_acc: 0.7300\n"
     ]
    }
   ],
   "source": [
    "history = model.fit_generator(\n",
    "    train_generator,\n",
    "    steps_per_epoch=100,\n",
    "    epochs=30,\n",
    "    validation_data=validation_generator,\n",
    "    validation_steps=50)"
   ]
  },
  {
   "cell_type": "code",
   "execution_count": 12,
   "metadata": {},
   "outputs": [],
   "source": [
    "model.save('cats_and_dogs_small_1.h5')"
   ]
  },
  {
   "cell_type": "code",
   "execution_count": 14,
   "metadata": {},
   "outputs": [
    {
     "data": {
      "image/png": "[encoded data removed]",
      "text/plain": [
       "<Figure size 432x288 with 1 Axes>"
      ]
     },
     "metadata": {
      "needs_background": "light"
     },
     "output_type": "display_data"
    },
    {
     "data": {
      "image/png": "[encoded data removed]",
      "text/plain": [
       "<Figure size 432x288 with 1 Axes>"
      ]
     },
     "metadata": {
      "needs_background": "light"
     },
     "output_type": "display_data"
    }
   ],
   "source": [
    "import matplotlib.pyplot as plt\n",
    "acc = history.history['acc']\n",
    "val_acc = history.history['val_acc']\n",
    "loss = history.history['loss']\n",
    "val_loss = history.history['val_loss']\n",
    "epochs = range(1, len(acc) + 1)\n",
    "plt.plot(epochs, acc, 'bo', label='Training acc')\n",
    "plt.plot(epochs, val_acc, 'b', label='Validation acc')\n",
    "plt.title('Training and validation accuracy')\n",
    "plt.legend()\n",
    "plt.figure()\n",
    "plt.plot(epochs, loss, 'bo', label='Training loss')\n",
    "plt.plot(epochs, val_loss, 'b', label='Validation loss')\n",
    "plt.title('Training and validation loss')\n",
    "plt.legend()\n",
    "plt.show()"
   ]
  },
  {
   "cell_type": "code",
   "execution_count": 1,
   "metadata": {},
   "outputs": [
    {
     "name": "stderr",
     "output_type": "stream",
     "text": [
      "Using TensorFlow backend.\n"
     ]
    }
   ],
   "source": [
    "from keras.models import load_model"
   ]
  },
  {
   "cell_type": "code",
   "execution_count": 6,
   "metadata": {},
   "outputs": [
    {
     "name": "stdout",
     "output_type": "stream",
     "text": [
      "(1, 150, 150, 3)\n"
     ]
    }
   ],
   "source": [
    "from matplotlib.image import imread\n",
    "import numpy as np\n",
    "\n",
    "img = imread('D:\\CNN\\cat.1985.jpg')\n",
    "img = img[:150,:150,:]\n",
    "img=np.expand_dims(img, axis=0)\n",
    "print(img.shape)"
   ]
  },
  {
   "cell_type": "code",
   "execution_count": 4,
   "metadata": {},
   "outputs": [],
   "source": [
    "model = load_model('cats_and_dogs_small_1.h5')"
   ]
  },
  {
   "cell_type": "code",
   "execution_count": 5,
   "metadata": {},
   "outputs": [
    {
     "data": {
      "text/plain": [
       "array([[0.]], dtype=float32)"
      ]
     },
     "execution_count": 5,
     "metadata": {},
     "output_type": "execute_result"
    }
   ],
   "source": [
    "model.predict(img)"
   ]
  },
  {
   "cell_type": "code",
   "execution_count": null,
   "metadata": {},
   "outputs": [],
   "source": []
  }
 ],
 "metadata": {
  "kernelspec": {
   "display_name": "Python 3",
   "language": "python",
   "name": "python3"
  },
  "language_info": {
   "codemirror_mode": {
    "name": "ipython",
    "version": 3
   },
   "file_extension": ".py",
   "mimetype": "text/x-python",
   "name": "python",
   "nbconvert_exporter": "python",
   "pygments_lexer": "ipython3",
   "version": "3.6.7"
  }
 },
 "nbformat": 4,
 "nbformat_minor": 2
}
